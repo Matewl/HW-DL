{
 "cells": [
  {
   "cell_type": "code",
   "execution_count": 66,
   "id": "8576896b",
   "metadata": {},
   "outputs": [],
   "source": [
    "import math\n",
    "import torch\n",
    "import numpy as np\n",
    "from torch import nn\n",
    "from torch.nn import init\n",
    "from torch.nn.modules import loss"
   ]
  },
  {
   "cell_type": "code",
   "execution_count": 67,
   "id": "bf40ac3e",
   "metadata": {},
   "outputs": [],
   "source": [
    "import matplotlib\n",
    "import matplotlib.pyplot as plt\n",
    "from IPython.display import clear_output\n",
    "%matplotlib inline"
   ]
  },
  {
   "cell_type": "markdown",
   "id": "8c770d43",
   "metadata": {},
   "source": [
    "## Восставновление матрицы малого ранга (2 балла)\n",
    "\n",
    "Есть неизвестная матрица X_taget. (В тетрадке она хранятся явно, для самопроверки)\n",
    "X_noised - зашумленная матрица, по которой нужно восстановить X_taget.\n",
    "\n",
    "Для решения задачи. Нужно задать две матрицы $H$, $W$ и найти минимум $|| W * H = X_{noisy} ||$ методом градиентного спуска.\n",
    "\n",
    "Напишите градиетный спуск и подберите learning rate и количетсво итераций. "
   ]
  },
  {
   "cell_type": "code",
   "execution_count": 68,
   "id": "05e2e849",
   "metadata": {},
   "outputs": [],
   "source": [
    "def get_X():\n",
    "    np.random.seed(12345)\n",
    "    W_ = np.random.randn(73, 6)\n",
    "    H_ = np.random.randn(6, 46)\n",
    "    X_taget = W_.dot(H_)\n",
    "    return torch.tensor(X_taget), torch.tensor(X_taget + np.random.randn(73, 46) * 0.1)"
   ]
  },
  {
   "cell_type": "code",
   "execution_count": 69,
   "id": "b55d9f63",
   "metadata": {},
   "outputs": [
    {
     "name": "stdout",
     "output_type": "stream",
     "text": [
      "torch.Size([73, 46]) 46\n"
     ]
    }
   ],
   "source": [
    "X_taget, X_noisy = get_X()\n",
    "print(X_noisy.shape, np.linalg.matrix_rank(X_noisy))"
   ]
  },
  {
   "cell_type": "code",
   "execution_count": 70,
   "id": "a8a8ba64",
   "metadata": {},
   "outputs": [],
   "source": [
    "def dist(X1, X2):\n",
    "    d = (X1 - X2) ** 2\n",
    "    return d.mean()"
   ]
  },
  {
   "cell_type": "code",
   "execution_count": 71,
   "id": "70b3e2cd",
   "metadata": {},
   "outputs": [],
   "source": [
    "W = torch.tensor(np.random.randn(73, 6), requires_grad=True)\n",
    "H = torch.tensor(np.random.randn(6, 46), requires_grad=True)"
   ]
  },
  {
   "cell_type": "code",
   "execution_count": 72,
   "id": "e8612d90",
   "metadata": {},
   "outputs": [],
   "source": [
    "# Минимизируейте dist(X_taget, W.matmul(H))\n",
    "\n",
    "\n",
    "val = dist(X_noisy, W.matmul(H))\n",
    "error = 0.008\n",
    "while val > error:\n",
    "    val.backward()\n",
    "    with torch.no_grad():\n",
    "        W -= W.grad\n",
    "        H -= H.grad\n",
    "    W.grad = None\n",
    "    H.grad = None\n",
    "    val = dist(X_noisy, W.matmul(H))\n"
   ]
  },
  {
   "cell_type": "code",
   "execution_count": 73,
   "id": "1d3d8e4e",
   "metadata": {},
   "outputs": [
    {
     "data": {
      "text/plain": [
       "(tensor([[-0.8714, -1.0437,  2.6547,  ..., -0.9536,  0.1898,  0.5202],\n",
       "         [-2.8459,  1.5371, -3.1096,  ...,  0.1686,  1.4262,  0.0879],\n",
       "         [ 1.7662, -2.0571, -1.7443,  ...,  1.3217, -0.2828, -0.0890],\n",
       "         ...,\n",
       "         [-0.9121, -1.2727,  3.2953,  ..., -2.8577,  0.1717,  0.8798],\n",
       "         [ 3.6893,  2.0530,  0.1916,  ...,  3.2116, -1.5225, -0.4281],\n",
       "         [ 2.6561, -1.7660,  0.3288,  ...,  1.8210, -0.9676, -0.7939]],\n",
       "        dtype=torch.float64),\n",
       " tensor([[-0.9010, -1.0849,  2.7149,  ..., -0.9301,  0.1952,  0.5061],\n",
       "         [-2.8849,  1.4266, -3.0875,  ...,  0.2205,  1.4400,  0.0317],\n",
       "         [ 1.8048, -2.0711, -1.6970,  ...,  1.2833, -0.2863, -0.0463],\n",
       "         ...,\n",
       "         [-0.8547, -1.2350,  3.3116,  ..., -2.8089,  0.1445,  0.8877],\n",
       "         [ 3.7858,  2.0639,  0.1514,  ...,  3.1917, -1.4821, -0.3601],\n",
       "         [ 2.5642, -1.7813,  0.3217,  ...,  1.7662, -0.9657, -0.7818]],\n",
       "        dtype=torch.float64, grad_fn=<MmBackward0>),\n",
       " tensor(0.0024, dtype=torch.float64, grad_fn=<MeanBackward0>))"
      ]
     },
     "execution_count": 73,
     "metadata": {},
     "output_type": "execute_result"
    }
   ],
   "source": [
    "X_taget, W.matmul(H), dist(X_taget, W.matmul(H))"
   ]
  },
  {
   "cell_type": "code",
   "execution_count": 74,
   "id": "8edb3f71",
   "metadata": {},
   "outputs": [
    {
     "data": {
      "text/plain": [
       "tensor(0.0080, dtype=torch.float64, grad_fn=<MeanBackward0>)"
      ]
     },
     "execution_count": 74,
     "metadata": {},
     "output_type": "execute_result"
    }
   ],
   "source": [
    "dist(X_noisy, W.matmul(H))"
   ]
  },
  {
   "cell_type": "code",
   "execution_count": 75,
   "id": "6926aa43",
   "metadata": {},
   "outputs": [],
   "source": [
    "W = W\n",
    "H = H"
   ]
  },
  {
   "cell_type": "code",
   "execution_count": 76,
   "id": "26ed7826",
   "metadata": {},
   "outputs": [
    {
     "data": {
      "text/plain": [
       "Ellipsis"
      ]
     },
     "execution_count": 76,
     "metadata": {},
     "output_type": "execute_result"
    }
   ],
   "source": [
    "..."
   ]
  },
  {
   "cell_type": "code",
   "execution_count": 77,
   "id": "ed582d20",
   "metadata": {},
   "outputs": [],
   "source": [
    "base_dist = dist(X_noisy, X_taget).item()\n",
    "recoverd_dist = dist(W.matmul(H), X_taget).item()"
   ]
  },
  {
   "cell_type": "code",
   "execution_count": 78,
   "id": "e61b2e71",
   "metadata": {},
   "outputs": [
    {
     "name": "stdout",
     "output_type": "stream",
     "text": [
      "Distance to noisy matrix:     0.010014712528201112\n",
      "Distance to recovered matrix: 0.0023731683813962043\n"
     ]
    }
   ],
   "source": [
    "# Восстановленая матрица должна быть ближе к исходной чем шумная\n",
    "print(f\"Distance to noisy matrix:     {base_dist}\")\n",
    "print(f\"Distance to recovered matrix: {recoverd_dist}\")"
   ]
  },
  {
   "cell_type": "code",
   "execution_count": 79,
   "id": "bdda47b9",
   "metadata": {},
   "outputs": [],
   "source": [
    "assert recoverd_dist < base_dist"
   ]
  },
  {
   "cell_type": "markdown",
   "id": "6df8d680",
   "metadata": {},
   "source": [
    "# Брахистохрона [4 балла]\n",
    "\n",
    "Задача о нахождении кривой наискорейшего спуска, или *брахистохроны*, состоит в том, чтобы найти такую форму горки, чтобы время скатывания  по ней тела без трения было минимальным. \n",
    "\n",
    "<img src=\"https://upload.wikimedia.org/wikipedia/commons/6/63/Brachistochrone.gif\" style=\"background:white\" />\n",
    "\n",
    "Известно, что решение этой задачи - трансцедентная кривая, называемая [циклоидой](https://ru.wikipedia.org/wiki/%D0%A6%D0%B8%D0%BA%D0%BB%D0%BE%D0%B8%D0%B4%D0%B0). Кроме того, что это кривая минимизирует время спуска, она является траекторией точки на границе катящейся окружности, время спуска по этой кривой не зависит от начального положения, а еще маятник в часах имеет циклоидальный ограничитель, благодаря чему частота его колебаний не зависит от амплитуды.\n",
    "\n",
    "<img src=\"https://upload.wikimedia.org/wikipedia/commons/b/bd/Tautochrone_curve.gif\" style=\"background:white\" />\n",
    "<img src=\"https://upload.wikimedia.org/wikipedia/commons/c/cd/Isochronous_cycloidal_pendula.gif\" style=\"background:white\" />\n",
    "<img src=\"https://upload.wikimedia.org/wikipedia/commons/6/69/Cycloid_f.gif\" style=\"background:white\" /> \n",
    "\n",
    "Эта залача была поставлена Иоганном Бернулли в 1696 году. Разные решения предлагали Исаак Ньютон, Якоб Бернулли, Г. В. Лейбниц, Г. Ф. Лопиталь, Э. В. Чирнхаус. Скорее всего, вы уже находили ее на курсе по вариационному исчислению, минимизируя значение какого-то там интеграла. Здесь же предлагается приблизить брахстохрону при помощи функционала pytorch."
   ]
  },
  {
   "cell_type": "code",
   "execution_count": 80,
   "id": "5317d20d",
   "metadata": {},
   "outputs": [],
   "source": [
    "# константы-параметры вашей горки. Для простоты будем считать, что верхняя точка\n",
    "# имеет координаты (0, HEIGHT), нижняя -- (WIDTH, 0). Обязательно возьмите другие числа!\n",
    "HEIGHT = 40\n",
    "WIDTH = 50\n",
    "g = 9.8\n",
    "# Будем апроксимировать бразистохрону  кусочно-линейной функцией, тут число отрезков\n",
    "NUM_POINTS = 20"
   ]
  },
  {
   "cell_type": "markdown",
   "id": "0c07a204",
   "metadata": {},
   "source": [
    "Начнем с того, что отрисуем сразу правильный ответ, чтобы сравнивать с ним то, что получается у нас. Для этого я воспользуюсь оригинальным [cпособом](https://en.wikipedia.org/wiki/Brachistochrone_curve#Indirect_method) Бернулли-младшего:"
   ]
  },
  {
   "cell_type": "code",
   "execution_count": 81,
   "id": "e96156d0",
   "metadata": {
    "scrolled": false
   },
   "outputs": [
    {
     "data": {
      "image/png": "[encoded data removed]",
      "text/plain": [
       "<Figure size 640x480 with 1 Axes>"
      ]
     },
     "metadata": {},
     "output_type": "display_data"
    }
   ],
   "source": [
    "from scipy import optimize\n",
    "\n",
    "# отрисуем правильный ответ:\n",
    "fig = plt.figure()\n",
    "ax = fig.add_subplot(111)\n",
    "\n",
    "# Находим такую циклоиду, у которой точка невозврата находится на вершине нашей горки\n",
    "def func(theta):\n",
    "    return (1 - np.cos(theta)) / (theta - np.sin(theta)) - HEIGHT / WIDTH\n",
    "\n",
    "# By the way, вот это считается самым эффективным поиском нулей функции на отрезке. \n",
    "# Должно работать сильно лучше, чем бинпоиск или метод Ньютона.\n",
    "# Упражнение: вернитесь в первую практику и сравните время работы с бинпоиском\n",
    "theta = optimize.brentq(func, 0.01, 2*np.pi)\n",
    "\n",
    "# Считаем всю циклоиду на (0, 2pi)\n",
    "r = WIDTH / (theta - np.sin(theta))\n",
    "ts = np.linspace(0, 2 * np.pi, 10000)\n",
    "sol_xs = r * (ts - np.sin(ts))\n",
    "sol_ys = HEIGHT - r * (1 - np.cos(ts))\n",
    "\n",
    "# убираем лишнее\n",
    "rng = sol_xs < WIDTH + 1e-8\n",
    "sol_xs = sol_xs[rng]\n",
    "sol_ys = sol_ys[rng]\n",
    "\n",
    "ax.plot(sol_xs, sol_ys)\n",
    "fig.canvas.draw()\n",
    "plt.show(block=False)\n",
    "\n",
    "# P.S. Если вас пугают эти явные формулы, можно узнать откуда они по ссылке выше."
   ]
  },
  {
   "cell_type": "markdown",
   "id": "08159441",
   "metadata": {},
   "source": [
    "Теперь к нашему приближению. Как уже упоминалось, оно будет кусочно-линейным: мы зафиксируем `NUM_POINTS` точек на горизонтальной оси, расположенных через одинаковые промежутки от `0` до `WIDTH`. В этих точках будут изломы нашей кусочно-линейной аппроксимации, а высоты мы будем менять в процессе \"обучения\"."
   ]
  },
  {
   "cell_type": "code",
   "execution_count": 82,
   "id": "a758212d",
   "metadata": {},
   "outputs": [
    {
     "data": {
      "image/png": "[encoded data removed]",
      "text/plain": [
       "<Figure size 640x480 with 1 Axes>"
      ]
     },
     "metadata": {},
     "output_type": "display_data"
    }
   ],
   "source": [
    "xs = torch.linspace(0, WIDTH, NUM_POINTS)\n",
    "# инициализируем горку прямой\n",
    "ys = torch.linspace(HEIGHT, 0, NUM_POINTS, requires_grad=True)\n",
    "dxs = torch.tensor([xs[i] - xs[i-1] for i in range(1, NUM_POINTS)]) \n",
    "fig = plt.figure()\n",
    "ax = fig.add_subplot(111)\n",
    "ax.plot(sol_xs, sol_ys)\n",
    "li, = ax.plot(xs.numpy(), ys.detach().numpy(), marker='o')\n"
   ]
  },
  {
   "cell_type": "code",
   "execution_count": 83,
   "id": "b3f92a67",
   "metadata": {},
   "outputs": [],
   "source": [
    "# Эта функция должна для каждой точки из xs вычислить время, спустя которе \n",
    "# скользящее тело окажется в той или иной точке. \n",
    "\n",
    "# Подсказка: вспомните закон сохранения механической энергии из школьного курса физики!\n",
    "\n",
    "def get_time(ys): \n",
    "    \"\"\"\n",
    "    :param ys: высоты наших точек\n",
    "    :return: время, через которое каждая из точек будет достигнута\n",
    "    \"\"\"\n",
    "    vs = (2 * g * (HEIGHT - ys))**(1/2)  # скорость в каждой точке\n",
    "    dys = torch.diff(ys) # изменение высоты\n",
    "    lengths = (dys**2 + dxs**2)**(1/2) # длина сегмента\n",
    "    sum = vs[0:NUM_POINTS - 1] + vs[1:NUM_POINTS]\n",
    "    times = 2 * lengths / sum  # Время достижения каждой точки\n",
    "    return times"
   ]
  },
  {
   "cell_type": "code",
   "execution_count": 84,
   "id": "225fe444",
   "metadata": {},
   "outputs": [
    {
     "name": "stdout",
     "output_type": "stream",
     "text": [
      "Epoch: 18000 time: [1.4167689  0.33752054 0.25131738 0.2078799  0.18104598 0.1626224\n",
      " 0.14911345 0.13876137 0.1305711  0.12393715 0.11846667 0.11389475\n",
      " 0.1100359  0.10675643 0.10395756 0.10156562 0.09952512 0.09779273\n",
      " 0.09633626]\n"
     ]
    },
    {
     "data": {
      "image/png": "[encoded data removed]",
      "text/plain": [
       "<Figure size 640x480 with 1 Axes>"
      ]
     },
     "metadata": {},
     "output_type": "display_data"
    }
   ],
   "source": [
    "lr = 0.7\n",
    "for epoch in range(20000):\n",
    "    \n",
    "    ts = get_time(ys)\n",
    "    loss = ts.sum()\n",
    "    loss.backward()\n",
    "    with torch.no_grad():\n",
    "        # обновим наши точки\n",
    "        ys[1:-1] -= lr * ys.grad[1:-1]\n",
    "        # Что-то еще?\n",
    "    ys.grad = None\n",
    "    \n",
    "    if epoch % 2000 == 0:\n",
    "        # интерактивная визуализация! обновляем график каждые 2000 эпох\n",
    "        \n",
    "        # осторожно: слишком частые clear_output могут привести к\n",
    "        # неадекватному поведению matplotlib до следующей перезагрузки кернела\n",
    "        clear_output(wait=True)\n",
    "        print(f\"Epoch: {epoch} time: {ts.detach().numpy()}\")\n",
    "        fig = plt.figure()\n",
    "        ax = fig.add_subplot(111)\n",
    "        ax.plot(sol_xs, sol_ys)\n",
    "        li, = ax.plot(xs, ys.detach(), marker='o')\n",
    "        fig.canvas.draw()\n",
    "        plt.show()"
   ]
  },
  {
   "cell_type": "markdown",
   "id": "3db21d56",
   "metadata": {},
   "source": []
  }
 ],
 "metadata": {
  "kernelspec": {
   "display_name": "Python 3 (ipykernel)",
   "language": "python",
   "name": "python3"
  },
  "language_info": {
   "codemirror_mode": {
    "name": "ipython",
    "version": 3
   },
   "file_extension": ".py",
   "mimetype": "text/x-python",
   "name": "python",
   "nbconvert_exporter": "python",
   "pygments_lexer": "ipython3",
   "version": "3.11.3"
  }
 },
 "nbformat": 4,
 "nbformat_minor": 5
}
